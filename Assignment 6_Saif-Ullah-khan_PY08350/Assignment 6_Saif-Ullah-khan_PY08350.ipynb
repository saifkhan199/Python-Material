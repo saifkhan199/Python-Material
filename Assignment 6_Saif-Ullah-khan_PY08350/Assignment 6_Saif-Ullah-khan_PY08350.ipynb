{
 "cells": [
  {
   "cell_type": "markdown",
   "metadata": {},
   "source": [
    "# OOP"
   ]
  },
  {
   "cell_type": "markdown",
   "metadata": {},
   "source": [
    "OOP stands for object oriented programing. it is a programing paradigm in which we create classes that contain attributes and method. This style resembles the real world object interation in cooding."
   ]
  },
  {
   "cell_type": "markdown",
   "metadata": {},
   "source": [
    "# Benefits"
   ]
  },
  {
   "cell_type": "markdown",
   "metadata": {},
   "source": [
    "One of the principal advantages of object-oriented programming techniques over procedural programming techniques is that \n",
    "they enable programmers to create modules that do not need to be changed when a new type of object is added. A programmer can \n",
    "simply create a new object that inherits many of its features from existing objects. This makes object-oriented programs easier\n",
    "to modify."
   ]
  },
  {
   "cell_type": "markdown",
   "metadata": {},
   "source": [
    "# Methods And Functions"
   ]
  },
  {
   "cell_type": "markdown",
   "metadata": {},
   "source": [
    "functions that are create inside the class are called method that is the behaviour of the class."
   ]
  },
  {
   "cell_type": "markdown",
   "metadata": {},
   "source": [
    "# Terms"
   ]
  },
  {
   "cell_type": "markdown",
   "metadata": {},
   "source": [
    "Class: class is the collection of objects. it has atributes and methods\n",
    "object:object is the instance of the class\n",
    "Attributes: Attributes are the varibles of the class.\n",
    "behaviour: Behaviour is the method."
   ]
  },
  {
   "cell_type": "code",
   "execution_count": 33,
   "metadata": {},
   "outputs": [
    {
     "name": "stdout",
     "output_type": "stream",
     "text": [
      "Corolla\n",
      "I love my  Audi  car !\n",
      "800\n",
      "Pakwheels provide good car inspection !\n",
      "Beech de !\n"
     ]
    }
   ],
   "source": [
    "class Cars():\n",
    "    def __init__(self,name,model,color,cc,transmission):\n",
    "        self.name=name\n",
    "        self.model=model\n",
    "        self.color=color\n",
    "        self.cc=cc\n",
    "        self.transmission=transmission\n",
    "        \n",
    "    def compliment(self,carname):\n",
    "        print('I love my ',carname,' car !')\n",
    "\n",
    "    def favourite():\n",
    "        print('I love to drive Manual Car !')\n",
    "\n",
    "    def pakwheels(self):\n",
    "        print('Pakwheels provide good car inspection !')\n",
    "\n",
    "    def olx(self):\n",
    "        print('Beech de !')\n",
    "\n",
    "    def carfirst():\n",
    "            print('not a nice option !')\n",
    "            \n",
    "car1=Cars('Corolla','2019','black','1800','Manual')\n",
    "car2=Cars('Mehran','2019','Gray','800','Manual')\n",
    "car3=Cars('Audi','2019','black','1800','Automatic')\n",
    "car4=Cars('Days','1987','Purple','200','Manual')\n",
    "car5=Cars('Alto','2019','black','600','Automatic')\n",
    "    \n",
    "print(car1.name)\n",
    "\n",
    "car1.compliment('Audi')\n",
    "\n",
    "print(car2.cc)\n",
    "\n",
    "car3.pakwheels()\n",
    "\n",
    "car4.olx()\n",
    "    \n",
    "    "
   ]
  },
  {
   "cell_type": "code",
   "execution_count": null,
   "metadata": {},
   "outputs": [],
   "source": []
  },
  {
   "cell_type": "code",
   "execution_count": null,
   "metadata": {},
   "outputs": [],
   "source": []
  }
 ],
 "metadata": {
  "kernelspec": {
   "display_name": "Python 3",
   "language": "python",
   "name": "python3"
  },
  "language_info": {
   "codemirror_mode": {
    "name": "ipython",
    "version": 3
   },
   "file_extension": ".py",
   "mimetype": "text/x-python",
   "name": "python",
   "nbconvert_exporter": "python",
   "pygments_lexer": "ipython3",
   "version": "3.7.4"
  }
 },
 "nbformat": 4,
 "nbformat_minor": 2
}
